{
 "cells": [
  {
   "cell_type": "code",
   "execution_count": 1,
   "metadata": {
    "ExecuteTime": {
     "end_time": "2020-08-08T17:53:39.377131Z",
     "start_time": "2020-08-08T17:53:37.928986Z"
    }
   },
   "outputs": [],
   "source": [
    "import pandas as pd\n",
    "import numpy as np\n",
    "import matplotlib.pyplot as plt\n",
    "import torch\n",
    "from sklearn.model_selection import train_test_split\n",
    "from torch import nn,optim\n",
    "import warnings\n",
    "warnings.filterwarnings(\"ignore\")"
   ]
  },
  {
   "cell_type": "code",
   "execution_count": 2,
   "metadata": {
    "ExecuteTime": {
     "end_time": "2020-08-08T17:53:39.402107Z",
     "start_time": "2020-08-08T17:53:39.379044Z"
    }
   },
   "outputs": [
    {
     "data": {
      "text/html": [
       "<div>\n",
       "<style scoped>\n",
       "    .dataframe tbody tr th:only-of-type {\n",
       "        vertical-align: middle;\n",
       "    }\n",
       "\n",
       "    .dataframe tbody tr th {\n",
       "        vertical-align: top;\n",
       "    }\n",
       "\n",
       "    .dataframe thead th {\n",
       "        text-align: right;\n",
       "    }\n",
       "</style>\n",
       "<table border=\"1\" class=\"dataframe\">\n",
       "  <thead>\n",
       "    <tr style=\"text-align: right;\">\n",
       "      <th></th>\n",
       "      <th>No</th>\n",
       "      <th>X1 transaction date</th>\n",
       "      <th>X2 house age</th>\n",
       "      <th>X3 distance to the nearest MRT station</th>\n",
       "      <th>X4 number of convenience stores</th>\n",
       "      <th>X5 latitude</th>\n",
       "      <th>X6 longitude</th>\n",
       "      <th>Y house price of unit area</th>\n",
       "    </tr>\n",
       "  </thead>\n",
       "  <tbody>\n",
       "    <tr>\n",
       "      <th>0</th>\n",
       "      <td>1</td>\n",
       "      <td>2012.917</td>\n",
       "      <td>32.0</td>\n",
       "      <td>84.87882</td>\n",
       "      <td>10</td>\n",
       "      <td>24.98298</td>\n",
       "      <td>121.54024</td>\n",
       "      <td>37.9</td>\n",
       "    </tr>\n",
       "    <tr>\n",
       "      <th>1</th>\n",
       "      <td>2</td>\n",
       "      <td>2012.917</td>\n",
       "      <td>19.5</td>\n",
       "      <td>306.59470</td>\n",
       "      <td>9</td>\n",
       "      <td>24.98034</td>\n",
       "      <td>121.53951</td>\n",
       "      <td>42.2</td>\n",
       "    </tr>\n",
       "    <tr>\n",
       "      <th>2</th>\n",
       "      <td>3</td>\n",
       "      <td>2013.583</td>\n",
       "      <td>13.3</td>\n",
       "      <td>561.98450</td>\n",
       "      <td>5</td>\n",
       "      <td>24.98746</td>\n",
       "      <td>121.54391</td>\n",
       "      <td>47.3</td>\n",
       "    </tr>\n",
       "    <tr>\n",
       "      <th>3</th>\n",
       "      <td>4</td>\n",
       "      <td>2013.500</td>\n",
       "      <td>13.3</td>\n",
       "      <td>561.98450</td>\n",
       "      <td>5</td>\n",
       "      <td>24.98746</td>\n",
       "      <td>121.54391</td>\n",
       "      <td>54.8</td>\n",
       "    </tr>\n",
       "    <tr>\n",
       "      <th>4</th>\n",
       "      <td>5</td>\n",
       "      <td>2012.833</td>\n",
       "      <td>5.0</td>\n",
       "      <td>390.56840</td>\n",
       "      <td>5</td>\n",
       "      <td>24.97937</td>\n",
       "      <td>121.54245</td>\n",
       "      <td>43.1</td>\n",
       "    </tr>\n",
       "  </tbody>\n",
       "</table>\n",
       "</div>"
      ],
      "text/plain": [
       "   No  X1 transaction date  X2 house age  \\\n",
       "0   1             2012.917          32.0   \n",
       "1   2             2012.917          19.5   \n",
       "2   3             2013.583          13.3   \n",
       "3   4             2013.500          13.3   \n",
       "4   5             2012.833           5.0   \n",
       "\n",
       "   X3 distance to the nearest MRT station  X4 number of convenience stores  \\\n",
       "0                                84.87882                               10   \n",
       "1                               306.59470                                9   \n",
       "2                               561.98450                                5   \n",
       "3                               561.98450                                5   \n",
       "4                               390.56840                                5   \n",
       "\n",
       "   X5 latitude  X6 longitude  Y house price of unit area  \n",
       "0     24.98298     121.54024                        37.9  \n",
       "1     24.98034     121.53951                        42.2  \n",
       "2     24.98746     121.54391                        47.3  \n",
       "3     24.98746     121.54391                        54.8  \n",
       "4     24.97937     121.54245                        43.1  "
      ]
     },
     "execution_count": 2,
     "metadata": {},
     "output_type": "execute_result"
    }
   ],
   "source": [
    "df = pd.read_csv('Real estate.csv')\n",
    "df.head()"
   ]
  },
  {
   "cell_type": "code",
   "execution_count": 3,
   "metadata": {
    "ExecuteTime": {
     "end_time": "2020-08-08T17:53:39.414138Z",
     "start_time": "2020-08-08T17:53:39.406115Z"
    }
   },
   "outputs": [
    {
     "data": {
      "text/html": [
       "<div>\n",
       "<style scoped>\n",
       "    .dataframe tbody tr th:only-of-type {\n",
       "        vertical-align: middle;\n",
       "    }\n",
       "\n",
       "    .dataframe tbody tr th {\n",
       "        vertical-align: top;\n",
       "    }\n",
       "\n",
       "    .dataframe thead th {\n",
       "        text-align: right;\n",
       "    }\n",
       "</style>\n",
       "<table border=\"1\" class=\"dataframe\">\n",
       "  <thead>\n",
       "    <tr style=\"text-align: right;\">\n",
       "      <th></th>\n",
       "      <th>X2 house age</th>\n",
       "      <th>X3 distance to the nearest MRT station</th>\n",
       "      <th>X4 number of convenience stores</th>\n",
       "      <th>Y house price of unit area</th>\n",
       "    </tr>\n",
       "  </thead>\n",
       "  <tbody>\n",
       "    <tr>\n",
       "      <th>0</th>\n",
       "      <td>32.0</td>\n",
       "      <td>84.87882</td>\n",
       "      <td>10</td>\n",
       "      <td>37.9</td>\n",
       "    </tr>\n",
       "  </tbody>\n",
       "</table>\n",
       "</div>"
      ],
      "text/plain": [
       "   X2 house age  X3 distance to the nearest MRT station  \\\n",
       "0          32.0                                84.87882   \n",
       "\n",
       "   X4 number of convenience stores  Y house price of unit area  \n",
       "0                               10                        37.9  "
      ]
     },
     "execution_count": 3,
     "metadata": {},
     "output_type": "execute_result"
    }
   ],
   "source": [
    "df.drop(['X1 transaction date','No','X5 latitude','X6 longitude'],axis=1,inplace=True)\n",
    "df.head(1)"
   ]
  },
  {
   "cell_type": "code",
   "execution_count": 4,
   "metadata": {
    "ExecuteTime": {
     "end_time": "2020-08-08T17:53:39.429177Z",
     "start_time": "2020-08-08T17:53:39.415140Z"
    }
   },
   "outputs": [
    {
     "data": {
      "text/plain": [
       "array([[ 32.     ,  84.87882,  10.     ],\n",
       "       [ 19.5    , 306.5947 ,   9.     ],\n",
       "       [ 13.3    , 561.9845 ,   5.     ],\n",
       "       [ 13.3    , 561.9845 ,   5.     ],\n",
       "       [  5.     , 390.5684 ,   5.     ]], dtype=float32)"
      ]
     },
     "execution_count": 4,
     "metadata": {},
     "output_type": "execute_result"
    }
   ],
   "source": [
    "X = df.iloc[: , :3]\n",
    "X = X.values\n",
    "X = X.astype('float32')\n",
    "X[:5]"
   ]
  },
  {
   "cell_type": "code",
   "execution_count": 5,
   "metadata": {
    "ExecuteTime": {
     "end_time": "2020-08-08T17:53:39.445724Z",
     "start_time": "2020-08-08T17:53:39.430181Z"
    }
   },
   "outputs": [
    {
     "data": {
      "text/plain": [
       "(414,)"
      ]
     },
     "execution_count": 5,
     "metadata": {},
     "output_type": "execute_result"
    }
   ],
   "source": [
    "y = df.iloc[: , 3]\n",
    "y = y.values\n",
    "y = y.astype('float32')\n",
    "y.shape"
   ]
  },
  {
   "cell_type": "code",
   "execution_count": 6,
   "metadata": {
    "ExecuteTime": {
     "end_time": "2020-08-08T17:53:39.462273Z",
     "start_time": "2020-08-08T17:53:39.448232Z"
    }
   },
   "outputs": [],
   "source": [
    "X_train, X_test, y_train, y_test = train_test_split(X, y, test_size = 0.2, random_state = 6)"
   ]
  },
  {
   "cell_type": "code",
   "execution_count": 7,
   "metadata": {
    "ExecuteTime": {
     "end_time": "2020-08-08T17:53:39.480321Z",
     "start_time": "2020-08-08T17:53:39.464279Z"
    }
   },
   "outputs": [],
   "source": [
    "from sklearn.preprocessing import StandardScaler\n",
    "sc_X = StandardScaler()\n",
    "X_train = sc_X.fit_transform(X_train)\n",
    "X_test = sc_X.transform(X_test)"
   ]
  },
  {
   "cell_type": "code",
   "execution_count": 8,
   "metadata": {
    "ExecuteTime": {
     "end_time": "2020-08-08T17:53:39.496365Z",
     "start_time": "2020-08-08T17:53:39.481324Z"
    }
   },
   "outputs": [],
   "source": [
    "X_train = torch.from_numpy(X_train)\n",
    "y_train = torch.from_numpy(y_train)\n",
    "X_test = torch.from_numpy(X_test)\n",
    "y_test = torch.from_numpy(y_test)"
   ]
  },
  {
   "cell_type": "code",
   "execution_count": 9,
   "metadata": {
    "ExecuteTime": {
     "end_time": "2020-08-08T17:53:39.516419Z",
     "start_time": "2020-08-08T17:53:39.499404Z"
    }
   },
   "outputs": [
    {
     "data": {
      "text/plain": [
       "(tensor([[ 1.3392, -0.7182,  1.5868],\n",
       "         [ 1.7095, -0.7137,  1.5868],\n",
       "         [ 0.8543, -0.5424,  0.9168]]),\n",
       " tensor([42.0000, 78.3000, 41.0000]))"
      ]
     },
     "execution_count": 9,
     "metadata": {},
     "output_type": "execute_result"
    }
   ],
   "source": [
    "from torch.utils.data import DataLoader , TensorDataset\n",
    "train_ds = TensorDataset(X_train, y_train)\n",
    "train_ds[0:3]"
   ]
  },
  {
   "cell_type": "code",
   "execution_count": 10,
   "metadata": {
    "ExecuteTime": {
     "end_time": "2020-08-08T17:53:39.529454Z",
     "start_time": "2020-08-08T17:53:39.519426Z"
    }
   },
   "outputs": [],
   "source": [
    "# Define data loader\n",
    "batch_size = 30\n",
    "train_dl = DataLoader(train_ds, batch_size, shuffle=True)"
   ]
  },
  {
   "cell_type": "markdown",
   "metadata": {},
   "source": [
    "Defining a training function"
   ]
  },
  {
   "cell_type": "code",
   "execution_count": 11,
   "metadata": {
    "ExecuteTime": {
     "end_time": "2020-08-08T17:53:39.549037Z",
     "start_time": "2020-08-08T17:53:39.531458Z"
    }
   },
   "outputs": [],
   "source": [
    "def train(n_epoch, model, criterion, opt):\n",
    "    loss_list = []\n",
    "    \n",
    "    for epoch in range(n_epoch):\n",
    "        total = 0\n",
    "        for xb,yb in train_dl:\n",
    "            # Generate predictions\n",
    "            pred = model(xb)\n",
    "            loss = criterion(pred, yb)\n",
    "            total+=loss.item()\n",
    "            # Perform gradient descent\n",
    "            loss.backward()\n",
    "            opt.step()\n",
    "            opt.zero_grad()\n",
    "        \n",
    "        loss_list.append(total)              \n",
    "    \n",
    "    return loss_list            "
   ]
  },
  {
   "cell_type": "markdown",
   "metadata": {},
   "source": [
    "## Linear Regression "
   ]
  },
  {
   "cell_type": "code",
   "execution_count": 12,
   "metadata": {
    "ExecuteTime": {
     "end_time": "2020-08-08T17:53:39.571605Z",
     "start_time": "2020-08-08T17:53:39.551043Z"
    }
   },
   "outputs": [
    {
     "name": "stdout",
     "output_type": "stream",
     "text": [
      "Parameter containing:\n",
      "tensor([[-0.0507, -0.0151, -0.0925]], requires_grad=True)\n",
      "Parameter containing:\n",
      "tensor([0.5473], requires_grad=True)\n"
     ]
    }
   ],
   "source": [
    "model1 = nn.Linear(3, 1)\n",
    "print(model1.weight)\n",
    "print(model1.bias)"
   ]
  },
  {
   "cell_type": "code",
   "execution_count": 13,
   "metadata": {
    "ExecuteTime": {
     "end_time": "2020-08-08T17:53:39.580628Z",
     "start_time": "2020-08-08T17:53:39.573609Z"
    }
   },
   "outputs": [],
   "source": [
    "criterion = nn.MSELoss()"
   ]
  },
  {
   "cell_type": "code",
   "execution_count": 14,
   "metadata": {
    "ExecuteTime": {
     "end_time": "2020-08-08T17:53:39.600682Z",
     "start_time": "2020-08-08T17:53:39.583641Z"
    }
   },
   "outputs": [],
   "source": [
    "opt = torch.optim.SGD(model1.parameters(), 0.001)"
   ]
  },
  {
   "cell_type": "code",
   "execution_count": 15,
   "metadata": {
    "ExecuteTime": {
     "end_time": "2020-08-08T17:53:44.146368Z",
     "start_time": "2020-08-08T17:53:39.606703Z"
    }
   },
   "outputs": [],
   "source": [
    "l=train(300, model1 , criterion , opt)"
   ]
  },
  {
   "cell_type": "code",
   "execution_count": 16,
   "metadata": {
    "ExecuteTime": {
     "end_time": "2020-08-08T17:53:44.156395Z",
     "start_time": "2020-08-08T17:53:44.149376Z"
    }
   },
   "outputs": [
    {
     "data": {
      "text/plain": [
       "tensor([[39.0887],\n",
       "        [34.1119],\n",
       "        [38.9514],\n",
       "        [37.4905],\n",
       "        [35.0397]], grad_fn=<SliceBackward>)"
      ]
     },
     "execution_count": 16,
     "metadata": {},
     "output_type": "execute_result"
    }
   ],
   "source": [
    "preds = model1(X_test)\n",
    "preds[:5]"
   ]
  },
  {
   "cell_type": "code",
   "execution_count": 17,
   "metadata": {
    "ExecuteTime": {
     "end_time": "2020-08-08T17:53:44.180459Z",
     "start_time": "2020-08-08T17:53:44.159403Z"
    }
   },
   "outputs": [
    {
     "data": {
      "text/plain": [
       "array([[39.4],\n",
       "       [15. ],\n",
       "       [52.2],\n",
       "       [20.9],\n",
       "       [17.4]], dtype=float32)"
      ]
     },
     "execution_count": 17,
     "metadata": {},
     "output_type": "execute_result"
    }
   ],
   "source": [
    "test = y_test.detach().numpy()\n",
    "test = test.reshape(-1,1)\n",
    "test[:5]"
   ]
  },
  {
   "cell_type": "code",
   "execution_count": 18,
   "metadata": {
    "ExecuteTime": {
     "end_time": "2020-08-08T17:53:44.198509Z",
     "start_time": "2020-08-08T17:53:44.189482Z"
    }
   },
   "outputs": [
    {
     "name": "stdout",
     "output_type": "stream",
     "text": [
      "Mean absolute error: 9.97\n"
     ]
    }
   ],
   "source": [
    "comp = preds.detach().numpy()\n",
    "print(\"Mean absolute error: %.2f\" % np.mean(np.absolute(comp - test)))"
   ]
  },
  {
   "cell_type": "code",
   "execution_count": 19,
   "metadata": {
    "ExecuteTime": {
     "end_time": "2020-08-08T17:53:44.224150Z",
     "start_time": "2020-08-08T17:53:44.206537Z"
    }
   },
   "outputs": [
    {
     "name": "stdout",
     "output_type": "stream",
     "text": [
      "[[39.08871 ]\n",
      " [34.111897]\n",
      " [38.951427]\n",
      " [37.49052 ]\n",
      " [35.039715]]\n",
      "\n",
      "[[39.4]\n",
      " [15. ]\n",
      " [52.2]\n",
      " [20.9]\n",
      " [17.4]]\n"
     ]
    }
   ],
   "source": [
    "print(comp[:5])\n",
    "print('')\n",
    "print(test[:5])"
   ]
  },
  {
   "cell_type": "code",
   "execution_count": 20,
   "metadata": {
    "ExecuteTime": {
     "end_time": "2020-08-08T17:53:44.418236Z",
     "start_time": "2020-08-08T17:53:44.228160Z"
    }
   },
   "outputs": [
    {
     "data": {
      "text/plain": [
       "Text(0, 0.5, 'Loss')"
      ]
     },
     "execution_count": 20,
     "metadata": {},
     "output_type": "execute_result"
    },
    {
     "data": {
      "image/png": "[encoded data removed]",
      "text/plain": [
       "<Figure size 1152x576 with 1 Axes>"
      ]
     },
     "metadata": {
      "needs_background": "light"
     },
     "output_type": "display_data"
    }
   ],
   "source": [
    "plt.figure(figsize=(16,8))\n",
    "plt.plot(l)\n",
    "plt.xlabel('Epochs')\n",
    "plt.ylabel('Loss')"
   ]
  },
  {
   "cell_type": "markdown",
   "metadata": {},
   "source": [
    "## Feedfoward Neural Network"
   ]
  },
  {
   "cell_type": "code",
   "execution_count": 21,
   "metadata": {
    "ExecuteTime": {
     "end_time": "2020-08-08T17:53:44.425727Z",
     "start_time": "2020-08-08T17:53:44.420711Z"
    }
   },
   "outputs": [],
   "source": [
    "class Net(nn.Module):\n",
    "    #Initilize The Layers\n",
    "    def __init__(self):\n",
    "        super().__init__()\n",
    "        self.l1 = nn.Linear(3,4)\n",
    "        self.o1 = nn.ReLU()\n",
    "        self.l2 = nn.Linear(4,1)\n",
    "        \n",
    "    def forward(self,x):\n",
    "        x = self.l1(x)\n",
    "        x = self.o1(x)\n",
    "        x = self.l2(x)\n",
    "        return(x)"
   ]
  },
  {
   "cell_type": "code",
   "execution_count": 22,
   "metadata": {
    "ExecuteTime": {
     "end_time": "2020-08-08T17:53:44.453809Z",
     "start_time": "2020-08-08T17:53:44.427733Z"
    }
   },
   "outputs": [],
   "source": [
    "nmodel = Net()"
   ]
  },
  {
   "cell_type": "code",
   "execution_count": 23,
   "metadata": {
    "ExecuteTime": {
     "end_time": "2020-08-08T17:53:44.477872Z",
     "start_time": "2020-08-08T17:53:44.459820Z"
    }
   },
   "outputs": [],
   "source": [
    "opt1 = torch.optim.SGD(nmodel.parameters(), 0.001)\n",
    "cr = nn.MSELoss()"
   ]
  },
  {
   "cell_type": "code",
   "execution_count": 24,
   "metadata": {
    "ExecuteTime": {
     "end_time": "2020-08-08T17:53:50.045460Z",
     "start_time": "2020-08-08T17:53:44.480879Z"
    }
   },
   "outputs": [],
   "source": [
    "co=train(300, nmodel , cr , opt1)"
   ]
  },
  {
   "cell_type": "code",
   "execution_count": 25,
   "metadata": {
    "ExecuteTime": {
     "end_time": "2020-08-08T17:53:50.269226Z",
     "start_time": "2020-08-08T17:53:50.048468Z"
    }
   },
   "outputs": [
    {
     "data": {
      "text/plain": [
       "Text(0, 0.5, 'Loss')"
      ]
     },
     "execution_count": 25,
     "metadata": {},
     "output_type": "execute_result"
    },
    {
     "data": {
      "image/png": "[encoded data removed]",
      "text/plain": [
       "<Figure size 1152x576 with 1 Axes>"
      ]
     },
     "metadata": {
      "needs_background": "light"
     },
     "output_type": "display_data"
    }
   ],
   "source": [
    "plt.figure(figsize=(16,8))\n",
    "plt.plot(co)\n",
    "plt.xlabel('Epochs')\n",
    "plt.ylabel('Loss')"
   ]
  },
  {
   "cell_type": "code",
   "execution_count": 26,
   "metadata": {
    "ExecuteTime": {
     "end_time": "2020-08-08T17:53:50.278219Z",
     "start_time": "2020-08-08T17:53:50.271200Z"
    }
   },
   "outputs": [
    {
     "data": {
      "text/plain": [
       "tensor([[38.1993],\n",
       "        [21.8629],\n",
       "        [35.8133],\n",
       "        [32.9656],\n",
       "        [26.5349]], grad_fn=<SliceBackward>)"
      ]
     },
     "execution_count": 26,
     "metadata": {},
     "output_type": "execute_result"
    }
   ],
   "source": [
    "predn = nmodel(X_test)\n",
    "predn[:5]"
   ]
  },
  {
   "cell_type": "code",
   "execution_count": 27,
   "metadata": {
    "ExecuteTime": {
     "end_time": "2020-08-08T17:53:50.302284Z",
     "start_time": "2020-08-08T17:53:50.281228Z"
    }
   },
   "outputs": [
    {
     "data": {
      "text/plain": [
       "array([[39.4],\n",
       "       [15. ],\n",
       "       [52.2],\n",
       "       [20.9],\n",
       "       [17.4]], dtype=float32)"
      ]
     },
     "execution_count": 27,
     "metadata": {},
     "output_type": "execute_result"
    }
   ],
   "source": [
    "test1 = y_test.detach().numpy()\n",
    "test1 = test.reshape(-1,1)\n",
    "test1[:5]"
   ]
  },
  {
   "cell_type": "code",
   "execution_count": 28,
   "metadata": {
    "ExecuteTime": {
     "end_time": "2020-08-08T17:53:50.320338Z",
     "start_time": "2020-08-08T17:53:50.303287Z"
    }
   },
   "outputs": [
    {
     "name": "stdout",
     "output_type": "stream",
     "text": [
      "Mean absolute error: 8.66\n"
     ]
    }
   ],
   "source": [
    "comp1 = predn.detach().numpy()\n",
    "print(\"Mean absolute error: %.2f\" % np.mean(np.absolute(comp1 - test1)))"
   ]
  },
  {
   "cell_type": "code",
   "execution_count": 29,
   "metadata": {
    "ExecuteTime": {
     "end_time": "2020-08-08T17:53:50.336384Z",
     "start_time": "2020-08-08T17:53:50.322844Z"
    }
   },
   "outputs": [],
   "source": [
    "a = np.array([5.0,390.56840,5]).reshape(-1,1)\n",
    "a = sc_X.fit_transform(a)\n",
    "a =a.reshape(1,-1)\n",
    "a = a.astype('float32')\n",
    "a = torch.from_numpy(a)"
   ]
  },
  {
   "cell_type": "code",
   "execution_count": 30,
   "metadata": {
    "ExecuteTime": {
     "end_time": "2020-08-08T17:53:50.358442Z",
     "start_time": "2020-08-08T17:53:50.338394Z"
    }
   },
   "outputs": [
    {
     "name": "stdout",
     "output_type": "stream",
     "text": [
      "THE PRIDECTED HOUSE PRICE by Linear Regression Model is: tensor([[37.0855]], grad_fn=<AddmmBackward>)\n",
      "\n",
      "THE PRIDECTED HOUSE PRICE by Neural Network Model is:  tensor([[30.2759]], grad_fn=<AddmmBackward>)\n"
     ]
    }
   ],
   "source": [
    "fut1 = model1(a)\n",
    "fut2 = nmodel(a)\n",
    "print(\"THE PRIDECTED HOUSE PRICE by Linear Regression Model is:\",fut1)\n",
    "print(\"\")\n",
    "print(\"THE PRIDECTED HOUSE PRICE by Neural Network Model is: \",fut2)"
   ]
  },
  {
   "cell_type": "code",
   "execution_count": null,
   "metadata": {},
   "outputs": [],
   "source": []
  },
  {
   "cell_type": "code",
   "execution_count": null,
   "metadata": {},
   "outputs": [],
   "source": []
  },
  {
   "cell_type": "code",
   "execution_count": null,
   "metadata": {},
   "outputs": [],
   "source": []
  }
 ],
 "metadata": {
  "kernelspec": {
   "display_name": "Python 3",
   "language": "python",
   "name": "python3"
  },
  "language_info": {
   "codemirror_mode": {
    "name": "ipython",
    "version": 3
   },
   "file_extension": ".py",
   "mimetype": "text/x-python",
   "name": "python",
   "nbconvert_exporter": "python",
   "pygments_lexer": "ipython3",
   "version": "3.7.3"
  },
  "toc": {
   "base_numbering": 1,
   "nav_menu": {},
   "number_sections": true,
   "sideBar": true,
   "skip_h1_title": false,
   "title_cell": "Table of Contents",
   "title_sidebar": "Contents",
   "toc_cell": false,
   "toc_position": {},
   "toc_section_display": true,
   "toc_window_display": false
  },
  "varInspector": {
   "cols": {
    "lenName": 16,
    "lenType": 16,
    "lenVar": 40
   },
   "kernels_config": {
    "python": {
     "delete_cmd_postfix": "",
     "delete_cmd_prefix": "del ",
     "library": "var_list.py",
     "varRefreshCmd": "print(var_dic_list())"
    },
    "r": {
     "delete_cmd_postfix": ") ",
     "delete_cmd_prefix": "rm(",
     "library": "var_list.r",
     "varRefreshCmd": "cat(var_dic_list()) "
    }
   },
   "types_to_exclude": [
    "module",
    "function",
    "builtin_function_or_method",
    "instance",
    "_Feature"
   ],
   "window_display": false
  }
 },
 "nbformat": 4,
 "nbformat_minor": 4
}
