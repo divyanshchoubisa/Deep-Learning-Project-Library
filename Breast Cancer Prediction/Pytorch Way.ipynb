{
 "cells": [
  {
   "cell_type": "code",
   "execution_count": 1,
   "metadata": {
    "ExecuteTime": {
     "end_time": "2020-08-07T06:40:02.653085Z",
     "start_time": "2020-08-07T06:40:01.351458Z"
    }
   },
   "outputs": [],
   "source": [
    "import numpy as np\n",
    "import pandas as pd\n",
    "import matplotlib.pyplot as plt\n",
    "\n",
    "\n",
    "import torch\n",
    "import torch.nn as nn\n",
    "import torch.optim as optim\n",
    "\n",
    "from sklearn.model_selection import train_test_split"
   ]
  },
  {
   "cell_type": "code",
   "execution_count": 2,
   "metadata": {
    "ExecuteTime": {
     "end_time": "2020-08-07T06:40:02.695601Z",
     "start_time": "2020-08-07T06:40:02.655498Z"
    }
   },
   "outputs": [
    {
     "data": {
      "text/html": [
       "<div>\n",
       "<style scoped>\n",
       "    .dataframe tbody tr th:only-of-type {\n",
       "        vertical-align: middle;\n",
       "    }\n",
       "\n",
       "    .dataframe tbody tr th {\n",
       "        vertical-align: top;\n",
       "    }\n",
       "\n",
       "    .dataframe thead th {\n",
       "        text-align: right;\n",
       "    }\n",
       "</style>\n",
       "<table border=\"1\" class=\"dataframe\">\n",
       "  <thead>\n",
       "    <tr style=\"text-align: right;\">\n",
       "      <th></th>\n",
       "      <th>diagnosis</th>\n",
       "      <th>radius_mean</th>\n",
       "      <th>texture_mean</th>\n",
       "      <th>perimeter_mean</th>\n",
       "      <th>area_mean</th>\n",
       "      <th>smoothness_mean</th>\n",
       "      <th>compactness_mean</th>\n",
       "      <th>concavity_mean</th>\n",
       "      <th>concave points_mean</th>\n",
       "      <th>symmetry_mean</th>\n",
       "      <th>...</th>\n",
       "      <th>radius_worst</th>\n",
       "      <th>texture_worst</th>\n",
       "      <th>perimeter_worst</th>\n",
       "      <th>area_worst</th>\n",
       "      <th>smoothness_worst</th>\n",
       "      <th>compactness_worst</th>\n",
       "      <th>concavity_worst</th>\n",
       "      <th>concave points_worst</th>\n",
       "      <th>symmetry_worst</th>\n",
       "      <th>fractal_dimension_worst</th>\n",
       "    </tr>\n",
       "  </thead>\n",
       "  <tbody>\n",
       "    <tr>\n",
       "      <th>0</th>\n",
       "      <td>M</td>\n",
       "      <td>17.99</td>\n",
       "      <td>10.38</td>\n",
       "      <td>122.80</td>\n",
       "      <td>1001.0</td>\n",
       "      <td>0.11840</td>\n",
       "      <td>0.27760</td>\n",
       "      <td>0.3001</td>\n",
       "      <td>0.14710</td>\n",
       "      <td>0.2419</td>\n",
       "      <td>...</td>\n",
       "      <td>25.38</td>\n",
       "      <td>17.33</td>\n",
       "      <td>184.60</td>\n",
       "      <td>2019.0</td>\n",
       "      <td>0.1622</td>\n",
       "      <td>0.6656</td>\n",
       "      <td>0.7119</td>\n",
       "      <td>0.2654</td>\n",
       "      <td>0.4601</td>\n",
       "      <td>0.11890</td>\n",
       "    </tr>\n",
       "    <tr>\n",
       "      <th>1</th>\n",
       "      <td>M</td>\n",
       "      <td>20.57</td>\n",
       "      <td>17.77</td>\n",
       "      <td>132.90</td>\n",
       "      <td>1326.0</td>\n",
       "      <td>0.08474</td>\n",
       "      <td>0.07864</td>\n",
       "      <td>0.0869</td>\n",
       "      <td>0.07017</td>\n",
       "      <td>0.1812</td>\n",
       "      <td>...</td>\n",
       "      <td>24.99</td>\n",
       "      <td>23.41</td>\n",
       "      <td>158.80</td>\n",
       "      <td>1956.0</td>\n",
       "      <td>0.1238</td>\n",
       "      <td>0.1866</td>\n",
       "      <td>0.2416</td>\n",
       "      <td>0.1860</td>\n",
       "      <td>0.2750</td>\n",
       "      <td>0.08902</td>\n",
       "    </tr>\n",
       "    <tr>\n",
       "      <th>2</th>\n",
       "      <td>M</td>\n",
       "      <td>19.69</td>\n",
       "      <td>21.25</td>\n",
       "      <td>130.00</td>\n",
       "      <td>1203.0</td>\n",
       "      <td>0.10960</td>\n",
       "      <td>0.15990</td>\n",
       "      <td>0.1974</td>\n",
       "      <td>0.12790</td>\n",
       "      <td>0.2069</td>\n",
       "      <td>...</td>\n",
       "      <td>23.57</td>\n",
       "      <td>25.53</td>\n",
       "      <td>152.50</td>\n",
       "      <td>1709.0</td>\n",
       "      <td>0.1444</td>\n",
       "      <td>0.4245</td>\n",
       "      <td>0.4504</td>\n",
       "      <td>0.2430</td>\n",
       "      <td>0.3613</td>\n",
       "      <td>0.08758</td>\n",
       "    </tr>\n",
       "    <tr>\n",
       "      <th>3</th>\n",
       "      <td>M</td>\n",
       "      <td>11.42</td>\n",
       "      <td>20.38</td>\n",
       "      <td>77.58</td>\n",
       "      <td>386.1</td>\n",
       "      <td>0.14250</td>\n",
       "      <td>0.28390</td>\n",
       "      <td>0.2414</td>\n",
       "      <td>0.10520</td>\n",
       "      <td>0.2597</td>\n",
       "      <td>...</td>\n",
       "      <td>14.91</td>\n",
       "      <td>26.50</td>\n",
       "      <td>98.87</td>\n",
       "      <td>567.7</td>\n",
       "      <td>0.2098</td>\n",
       "      <td>0.8663</td>\n",
       "      <td>0.6869</td>\n",
       "      <td>0.2575</td>\n",
       "      <td>0.6638</td>\n",
       "      <td>0.17300</td>\n",
       "    </tr>\n",
       "    <tr>\n",
       "      <th>4</th>\n",
       "      <td>M</td>\n",
       "      <td>20.29</td>\n",
       "      <td>14.34</td>\n",
       "      <td>135.10</td>\n",
       "      <td>1297.0</td>\n",
       "      <td>0.10030</td>\n",
       "      <td>0.13280</td>\n",
       "      <td>0.1980</td>\n",
       "      <td>0.10430</td>\n",
       "      <td>0.1809</td>\n",
       "      <td>...</td>\n",
       "      <td>22.54</td>\n",
       "      <td>16.67</td>\n",
       "      <td>152.20</td>\n",
       "      <td>1575.0</td>\n",
       "      <td>0.1374</td>\n",
       "      <td>0.2050</td>\n",
       "      <td>0.4000</td>\n",
       "      <td>0.1625</td>\n",
       "      <td>0.2364</td>\n",
       "      <td>0.07678</td>\n",
       "    </tr>\n",
       "  </tbody>\n",
       "</table>\n",
       "<p>5 rows × 31 columns</p>\n",
       "</div>"
      ],
      "text/plain": [
       "  diagnosis  radius_mean  texture_mean  perimeter_mean  area_mean  \\\n",
       "0         M        17.99         10.38          122.80     1001.0   \n",
       "1         M        20.57         17.77          132.90     1326.0   \n",
       "2         M        19.69         21.25          130.00     1203.0   \n",
       "3         M        11.42         20.38           77.58      386.1   \n",
       "4         M        20.29         14.34          135.10     1297.0   \n",
       "\n",
       "   smoothness_mean  compactness_mean  concavity_mean  concave points_mean  \\\n",
       "0          0.11840           0.27760          0.3001              0.14710   \n",
       "1          0.08474           0.07864          0.0869              0.07017   \n",
       "2          0.10960           0.15990          0.1974              0.12790   \n",
       "3          0.14250           0.28390          0.2414              0.10520   \n",
       "4          0.10030           0.13280          0.1980              0.10430   \n",
       "\n",
       "   symmetry_mean  ...  radius_worst  texture_worst  perimeter_worst  \\\n",
       "0         0.2419  ...         25.38          17.33           184.60   \n",
       "1         0.1812  ...         24.99          23.41           158.80   \n",
       "2         0.2069  ...         23.57          25.53           152.50   \n",
       "3         0.2597  ...         14.91          26.50            98.87   \n",
       "4         0.1809  ...         22.54          16.67           152.20   \n",
       "\n",
       "   area_worst  smoothness_worst  compactness_worst  concavity_worst  \\\n",
       "0      2019.0            0.1622             0.6656           0.7119   \n",
       "1      1956.0            0.1238             0.1866           0.2416   \n",
       "2      1709.0            0.1444             0.4245           0.4504   \n",
       "3       567.7            0.2098             0.8663           0.6869   \n",
       "4      1575.0            0.1374             0.2050           0.4000   \n",
       "\n",
       "   concave points_worst  symmetry_worst  fractal_dimension_worst  \n",
       "0                0.2654          0.4601                  0.11890  \n",
       "1                0.1860          0.2750                  0.08902  \n",
       "2                0.2430          0.3613                  0.08758  \n",
       "3                0.2575          0.6638                  0.17300  \n",
       "4                0.1625          0.2364                  0.07678  \n",
       "\n",
       "[5 rows x 31 columns]"
      ]
     },
     "execution_count": 2,
     "metadata": {},
     "output_type": "execute_result"
    }
   ],
   "source": [
    "df = pd.read_csv('data.csv')\n",
    "df.drop(['Unnamed: 32','id'],axis=1,inplace=True)\n",
    "df.head()"
   ]
  },
  {
   "cell_type": "code",
   "execution_count": 3,
   "metadata": {
    "ExecuteTime": {
     "end_time": "2020-08-07T06:40:02.719631Z",
     "start_time": "2020-08-07T06:40:02.698574Z"
    }
   },
   "outputs": [
    {
     "data": {
      "text/html": [
       "<div>\n",
       "<style scoped>\n",
       "    .dataframe tbody tr th:only-of-type {\n",
       "        vertical-align: middle;\n",
       "    }\n",
       "\n",
       "    .dataframe tbody tr th {\n",
       "        vertical-align: top;\n",
       "    }\n",
       "\n",
       "    .dataframe thead th {\n",
       "        text-align: right;\n",
       "    }\n",
       "</style>\n",
       "<table border=\"1\" class=\"dataframe\">\n",
       "  <thead>\n",
       "    <tr style=\"text-align: right;\">\n",
       "      <th></th>\n",
       "      <th>diagnosis</th>\n",
       "      <th>radius_mean</th>\n",
       "      <th>texture_mean</th>\n",
       "      <th>perimeter_mean</th>\n",
       "      <th>area_mean</th>\n",
       "      <th>smoothness_mean</th>\n",
       "      <th>compactness_mean</th>\n",
       "      <th>concavity_mean</th>\n",
       "      <th>concave points_mean</th>\n",
       "      <th>symmetry_mean</th>\n",
       "      <th>...</th>\n",
       "      <th>radius_worst</th>\n",
       "      <th>texture_worst</th>\n",
       "      <th>perimeter_worst</th>\n",
       "      <th>area_worst</th>\n",
       "      <th>smoothness_worst</th>\n",
       "      <th>compactness_worst</th>\n",
       "      <th>concavity_worst</th>\n",
       "      <th>concave points_worst</th>\n",
       "      <th>symmetry_worst</th>\n",
       "      <th>fractal_dimension_worst</th>\n",
       "    </tr>\n",
       "  </thead>\n",
       "  <tbody>\n",
       "    <tr>\n",
       "      <th>445</th>\n",
       "      <td>B</td>\n",
       "      <td>11.99</td>\n",
       "      <td>24.89</td>\n",
       "      <td>77.61</td>\n",
       "      <td>441.3</td>\n",
       "      <td>0.10300</td>\n",
       "      <td>0.09218</td>\n",
       "      <td>0.05441</td>\n",
       "      <td>0.04274</td>\n",
       "      <td>0.1820</td>\n",
       "      <td>...</td>\n",
       "      <td>12.98</td>\n",
       "      <td>30.36</td>\n",
       "      <td>84.48</td>\n",
       "      <td>513.9</td>\n",
       "      <td>0.1311</td>\n",
       "      <td>0.1822</td>\n",
       "      <td>0.1609</td>\n",
       "      <td>0.12020</td>\n",
       "      <td>0.2599</td>\n",
       "      <td>0.08251</td>\n",
       "    </tr>\n",
       "    <tr>\n",
       "      <th>446</th>\n",
       "      <td>M</td>\n",
       "      <td>17.75</td>\n",
       "      <td>28.03</td>\n",
       "      <td>117.30</td>\n",
       "      <td>981.6</td>\n",
       "      <td>0.09997</td>\n",
       "      <td>0.13140</td>\n",
       "      <td>0.16980</td>\n",
       "      <td>0.08293</td>\n",
       "      <td>0.1713</td>\n",
       "      <td>...</td>\n",
       "      <td>21.53</td>\n",
       "      <td>38.54</td>\n",
       "      <td>145.40</td>\n",
       "      <td>1437.0</td>\n",
       "      <td>0.1401</td>\n",
       "      <td>0.3762</td>\n",
       "      <td>0.6399</td>\n",
       "      <td>0.19700</td>\n",
       "      <td>0.2972</td>\n",
       "      <td>0.09075</td>\n",
       "    </tr>\n",
       "    <tr>\n",
       "      <th>447</th>\n",
       "      <td>B</td>\n",
       "      <td>14.80</td>\n",
       "      <td>17.66</td>\n",
       "      <td>95.88</td>\n",
       "      <td>674.8</td>\n",
       "      <td>0.09179</td>\n",
       "      <td>0.08890</td>\n",
       "      <td>0.04069</td>\n",
       "      <td>0.02260</td>\n",
       "      <td>0.1893</td>\n",
       "      <td>...</td>\n",
       "      <td>16.43</td>\n",
       "      <td>22.74</td>\n",
       "      <td>105.90</td>\n",
       "      <td>829.5</td>\n",
       "      <td>0.1226</td>\n",
       "      <td>0.1881</td>\n",
       "      <td>0.2060</td>\n",
       "      <td>0.08308</td>\n",
       "      <td>0.3600</td>\n",
       "      <td>0.07285</td>\n",
       "    </tr>\n",
       "    <tr>\n",
       "      <th>448</th>\n",
       "      <td>B</td>\n",
       "      <td>14.53</td>\n",
       "      <td>19.34</td>\n",
       "      <td>94.25</td>\n",
       "      <td>659.7</td>\n",
       "      <td>0.08388</td>\n",
       "      <td>0.07800</td>\n",
       "      <td>0.08817</td>\n",
       "      <td>0.02925</td>\n",
       "      <td>0.1473</td>\n",
       "      <td>...</td>\n",
       "      <td>16.30</td>\n",
       "      <td>28.39</td>\n",
       "      <td>108.10</td>\n",
       "      <td>830.5</td>\n",
       "      <td>0.1089</td>\n",
       "      <td>0.2649</td>\n",
       "      <td>0.3779</td>\n",
       "      <td>0.09594</td>\n",
       "      <td>0.2471</td>\n",
       "      <td>0.07463</td>\n",
       "    </tr>\n",
       "    <tr>\n",
       "      <th>449</th>\n",
       "      <td>M</td>\n",
       "      <td>21.10</td>\n",
       "      <td>20.52</td>\n",
       "      <td>138.10</td>\n",
       "      <td>1384.0</td>\n",
       "      <td>0.09684</td>\n",
       "      <td>0.11750</td>\n",
       "      <td>0.15720</td>\n",
       "      <td>0.11550</td>\n",
       "      <td>0.1554</td>\n",
       "      <td>...</td>\n",
       "      <td>25.68</td>\n",
       "      <td>32.07</td>\n",
       "      <td>168.20</td>\n",
       "      <td>2022.0</td>\n",
       "      <td>0.1368</td>\n",
       "      <td>0.3101</td>\n",
       "      <td>0.4399</td>\n",
       "      <td>0.22800</td>\n",
       "      <td>0.2268</td>\n",
       "      <td>0.07425</td>\n",
       "    </tr>\n",
       "  </tbody>\n",
       "</table>\n",
       "<p>5 rows × 31 columns</p>\n",
       "</div>"
      ],
      "text/plain": [
       "    diagnosis  radius_mean  texture_mean  perimeter_mean  area_mean  \\\n",
       "445         B        11.99         24.89           77.61      441.3   \n",
       "446         M        17.75         28.03          117.30      981.6   \n",
       "447         B        14.80         17.66           95.88      674.8   \n",
       "448         B        14.53         19.34           94.25      659.7   \n",
       "449         M        21.10         20.52          138.10     1384.0   \n",
       "\n",
       "     smoothness_mean  compactness_mean  concavity_mean  concave points_mean  \\\n",
       "445          0.10300           0.09218         0.05441              0.04274   \n",
       "446          0.09997           0.13140         0.16980              0.08293   \n",
       "447          0.09179           0.08890         0.04069              0.02260   \n",
       "448          0.08388           0.07800         0.08817              0.02925   \n",
       "449          0.09684           0.11750         0.15720              0.11550   \n",
       "\n",
       "     symmetry_mean  ...  radius_worst  texture_worst  perimeter_worst  \\\n",
       "445         0.1820  ...         12.98          30.36            84.48   \n",
       "446         0.1713  ...         21.53          38.54           145.40   \n",
       "447         0.1893  ...         16.43          22.74           105.90   \n",
       "448         0.1473  ...         16.30          28.39           108.10   \n",
       "449         0.1554  ...         25.68          32.07           168.20   \n",
       "\n",
       "     area_worst  smoothness_worst  compactness_worst  concavity_worst  \\\n",
       "445       513.9            0.1311             0.1822           0.1609   \n",
       "446      1437.0            0.1401             0.3762           0.6399   \n",
       "447       829.5            0.1226             0.1881           0.2060   \n",
       "448       830.5            0.1089             0.2649           0.3779   \n",
       "449      2022.0            0.1368             0.3101           0.4399   \n",
       "\n",
       "     concave points_worst  symmetry_worst  fractal_dimension_worst  \n",
       "445               0.12020          0.2599                  0.08251  \n",
       "446               0.19700          0.2972                  0.09075  \n",
       "447               0.08308          0.3600                  0.07285  \n",
       "448               0.09594          0.2471                  0.07463  \n",
       "449               0.22800          0.2268                  0.07425  \n",
       "\n",
       "[5 rows x 31 columns]"
      ]
     },
     "execution_count": 3,
     "metadata": {},
     "output_type": "execute_result"
    }
   ],
   "source": [
    "work = df.iloc[0:450,:]\n",
    "work.tail()"
   ]
  },
  {
   "cell_type": "code",
   "execution_count": 4,
   "metadata": {
    "ExecuteTime": {
     "end_time": "2020-08-07T06:40:02.758745Z",
     "start_time": "2020-08-07T06:40:02.721636Z"
    }
   },
   "outputs": [
    {
     "data": {
      "text/html": [
       "<div>\n",
       "<style scoped>\n",
       "    .dataframe tbody tr th:only-of-type {\n",
       "        vertical-align: middle;\n",
       "    }\n",
       "\n",
       "    .dataframe tbody tr th {\n",
       "        vertical-align: top;\n",
       "    }\n",
       "\n",
       "    .dataframe thead th {\n",
       "        text-align: right;\n",
       "    }\n",
       "</style>\n",
       "<table border=\"1\" class=\"dataframe\">\n",
       "  <thead>\n",
       "    <tr style=\"text-align: right;\">\n",
       "      <th></th>\n",
       "      <th>diagnosis</th>\n",
       "      <th>radius_mean</th>\n",
       "      <th>texture_mean</th>\n",
       "      <th>perimeter_mean</th>\n",
       "      <th>area_mean</th>\n",
       "      <th>smoothness_mean</th>\n",
       "      <th>compactness_mean</th>\n",
       "      <th>concavity_mean</th>\n",
       "      <th>concave points_mean</th>\n",
       "      <th>symmetry_mean</th>\n",
       "      <th>...</th>\n",
       "      <th>radius_worst</th>\n",
       "      <th>texture_worst</th>\n",
       "      <th>perimeter_worst</th>\n",
       "      <th>area_worst</th>\n",
       "      <th>smoothness_worst</th>\n",
       "      <th>compactness_worst</th>\n",
       "      <th>concavity_worst</th>\n",
       "      <th>concave points_worst</th>\n",
       "      <th>symmetry_worst</th>\n",
       "      <th>fractal_dimension_worst</th>\n",
       "    </tr>\n",
       "  </thead>\n",
       "  <tbody>\n",
       "    <tr>\n",
       "      <th>450</th>\n",
       "      <td>B</td>\n",
       "      <td>11.87</td>\n",
       "      <td>21.54</td>\n",
       "      <td>76.83</td>\n",
       "      <td>432.0</td>\n",
       "      <td>0.06613</td>\n",
       "      <td>0.10640</td>\n",
       "      <td>0.08777</td>\n",
       "      <td>0.02386</td>\n",
       "      <td>0.1349</td>\n",
       "      <td>...</td>\n",
       "      <td>12.79</td>\n",
       "      <td>28.18</td>\n",
       "      <td>83.51</td>\n",
       "      <td>507.2</td>\n",
       "      <td>0.09457</td>\n",
       "      <td>0.3399</td>\n",
       "      <td>0.3218</td>\n",
       "      <td>0.08750</td>\n",
       "      <td>0.2305</td>\n",
       "      <td>0.09952</td>\n",
       "    </tr>\n",
       "    <tr>\n",
       "      <th>451</th>\n",
       "      <td>M</td>\n",
       "      <td>19.59</td>\n",
       "      <td>25.00</td>\n",
       "      <td>127.70</td>\n",
       "      <td>1191.0</td>\n",
       "      <td>0.10320</td>\n",
       "      <td>0.09871</td>\n",
       "      <td>0.16550</td>\n",
       "      <td>0.09063</td>\n",
       "      <td>0.1663</td>\n",
       "      <td>...</td>\n",
       "      <td>21.44</td>\n",
       "      <td>30.96</td>\n",
       "      <td>139.80</td>\n",
       "      <td>1421.0</td>\n",
       "      <td>0.15280</td>\n",
       "      <td>0.1845</td>\n",
       "      <td>0.3977</td>\n",
       "      <td>0.14660</td>\n",
       "      <td>0.2293</td>\n",
       "      <td>0.06091</td>\n",
       "    </tr>\n",
       "    <tr>\n",
       "      <th>452</th>\n",
       "      <td>B</td>\n",
       "      <td>12.00</td>\n",
       "      <td>28.23</td>\n",
       "      <td>76.77</td>\n",
       "      <td>442.5</td>\n",
       "      <td>0.08437</td>\n",
       "      <td>0.06450</td>\n",
       "      <td>0.04055</td>\n",
       "      <td>0.01945</td>\n",
       "      <td>0.1615</td>\n",
       "      <td>...</td>\n",
       "      <td>13.09</td>\n",
       "      <td>37.88</td>\n",
       "      <td>85.07</td>\n",
       "      <td>523.7</td>\n",
       "      <td>0.12080</td>\n",
       "      <td>0.1856</td>\n",
       "      <td>0.1811</td>\n",
       "      <td>0.07116</td>\n",
       "      <td>0.2447</td>\n",
       "      <td>0.08194</td>\n",
       "    </tr>\n",
       "    <tr>\n",
       "      <th>453</th>\n",
       "      <td>B</td>\n",
       "      <td>14.53</td>\n",
       "      <td>13.98</td>\n",
       "      <td>93.86</td>\n",
       "      <td>644.2</td>\n",
       "      <td>0.10990</td>\n",
       "      <td>0.09242</td>\n",
       "      <td>0.06895</td>\n",
       "      <td>0.06495</td>\n",
       "      <td>0.1650</td>\n",
       "      <td>...</td>\n",
       "      <td>15.80</td>\n",
       "      <td>16.93</td>\n",
       "      <td>103.10</td>\n",
       "      <td>749.9</td>\n",
       "      <td>0.13470</td>\n",
       "      <td>0.1478</td>\n",
       "      <td>0.1373</td>\n",
       "      <td>0.10690</td>\n",
       "      <td>0.2606</td>\n",
       "      <td>0.07810</td>\n",
       "    </tr>\n",
       "    <tr>\n",
       "      <th>454</th>\n",
       "      <td>B</td>\n",
       "      <td>12.62</td>\n",
       "      <td>17.15</td>\n",
       "      <td>80.62</td>\n",
       "      <td>492.9</td>\n",
       "      <td>0.08583</td>\n",
       "      <td>0.05430</td>\n",
       "      <td>0.02966</td>\n",
       "      <td>0.02272</td>\n",
       "      <td>0.1799</td>\n",
       "      <td>...</td>\n",
       "      <td>14.34</td>\n",
       "      <td>22.15</td>\n",
       "      <td>91.62</td>\n",
       "      <td>633.5</td>\n",
       "      <td>0.12250</td>\n",
       "      <td>0.1517</td>\n",
       "      <td>0.1887</td>\n",
       "      <td>0.09851</td>\n",
       "      <td>0.3270</td>\n",
       "      <td>0.07330</td>\n",
       "    </tr>\n",
       "  </tbody>\n",
       "</table>\n",
       "<p>5 rows × 31 columns</p>\n",
       "</div>"
      ],
      "text/plain": [
       "    diagnosis  radius_mean  texture_mean  perimeter_mean  area_mean  \\\n",
       "450         B        11.87         21.54           76.83      432.0   \n",
       "451         M        19.59         25.00          127.70     1191.0   \n",
       "452         B        12.00         28.23           76.77      442.5   \n",
       "453         B        14.53         13.98           93.86      644.2   \n",
       "454         B        12.62         17.15           80.62      492.9   \n",
       "\n",
       "     smoothness_mean  compactness_mean  concavity_mean  concave points_mean  \\\n",
       "450          0.06613           0.10640         0.08777              0.02386   \n",
       "451          0.10320           0.09871         0.16550              0.09063   \n",
       "452          0.08437           0.06450         0.04055              0.01945   \n",
       "453          0.10990           0.09242         0.06895              0.06495   \n",
       "454          0.08583           0.05430         0.02966              0.02272   \n",
       "\n",
       "     symmetry_mean  ...  radius_worst  texture_worst  perimeter_worst  \\\n",
       "450         0.1349  ...         12.79          28.18            83.51   \n",
       "451         0.1663  ...         21.44          30.96           139.80   \n",
       "452         0.1615  ...         13.09          37.88            85.07   \n",
       "453         0.1650  ...         15.80          16.93           103.10   \n",
       "454         0.1799  ...         14.34          22.15            91.62   \n",
       "\n",
       "     area_worst  smoothness_worst  compactness_worst  concavity_worst  \\\n",
       "450       507.2           0.09457             0.3399           0.3218   \n",
       "451      1421.0           0.15280             0.1845           0.3977   \n",
       "452       523.7           0.12080             0.1856           0.1811   \n",
       "453       749.9           0.13470             0.1478           0.1373   \n",
       "454       633.5           0.12250             0.1517           0.1887   \n",
       "\n",
       "     concave points_worst  symmetry_worst  fractal_dimension_worst  \n",
       "450               0.08750          0.2305                  0.09952  \n",
       "451               0.14660          0.2293                  0.06091  \n",
       "452               0.07116          0.2447                  0.08194  \n",
       "453               0.10690          0.2606                  0.07810  \n",
       "454               0.09851          0.3270                  0.07330  \n",
       "\n",
       "[5 rows x 31 columns]"
      ]
     },
     "execution_count": 4,
     "metadata": {},
     "output_type": "execute_result"
    }
   ],
   "source": [
    "unseen = df.iloc[450:,:]\n",
    "unseen.head()"
   ]
  },
  {
   "cell_type": "code",
   "execution_count": 5,
   "metadata": {
    "ExecuteTime": {
     "end_time": "2020-08-07T06:40:02.776294Z",
     "start_time": "2020-08-07T06:40:02.761279Z"
    }
   },
   "outputs": [
    {
     "name": "stdout",
     "output_type": "stream",
     "text": [
      "(450, 31)\n",
      "(119, 31)\n"
     ]
    }
   ],
   "source": [
    "print(work.shape)\n",
    "print(unseen.shape)"
   ]
  },
  {
   "cell_type": "code",
   "execution_count": 6,
   "metadata": {
    "ExecuteTime": {
     "end_time": "2020-08-07T06:40:02.794343Z",
     "start_time": "2020-08-07T06:40:02.777297Z"
    }
   },
   "outputs": [],
   "source": [
    "X = work.drop([\"diagnosis\"], axis=1)\n",
    "X = X.values"
   ]
  },
  {
   "cell_type": "code",
   "execution_count": 7,
   "metadata": {
    "ExecuteTime": {
     "end_time": "2020-08-07T06:40:02.811388Z",
     "start_time": "2020-08-07T06:40:02.796350Z"
    }
   },
   "outputs": [
    {
     "data": {
      "text/plain": [
       "0    M\n",
       "Name: diagnosis, dtype: object"
      ]
     },
     "execution_count": 7,
     "metadata": {},
     "output_type": "execute_result"
    }
   ],
   "source": [
    "y = work['diagnosis']\n",
    "y.head(1)"
   ]
  },
  {
   "cell_type": "code",
   "execution_count": 8,
   "metadata": {
    "ExecuteTime": {
     "end_time": "2020-08-07T06:40:02.826455Z",
     "start_time": "2020-08-07T06:40:02.814395Z"
    }
   },
   "outputs": [
    {
     "name": "stdout",
     "output_type": "stream",
     "text": [
      "[1 1 1 1 1]\n",
      "(450,)\n"
     ]
    }
   ],
   "source": [
    "from sklearn.preprocessing import LabelEncoder\n",
    "le_Y=LabelEncoder()\n",
    "y=le_Y.fit_transform(y)\n",
    "print(y[:5])\n",
    "print(y.shape)"
   ]
  },
  {
   "cell_type": "markdown",
   "metadata": {},
   "source": [
    "1 - M <br/>\n",
    "0 - B"
   ]
  },
  {
   "cell_type": "code",
   "execution_count": 9,
   "metadata": {
    "ExecuteTime": {
     "end_time": "2020-08-07T06:40:02.842469Z",
     "start_time": "2020-08-07T06:40:02.829445Z"
    }
   },
   "outputs": [
    {
     "name": "stdout",
     "output_type": "stream",
     "text": [
      "(360, 30)\n",
      "(90, 30)\n",
      "(360,)\n",
      "(90,)\n"
     ]
    }
   ],
   "source": [
    "x_train, x_test, y_train, y_test = train_test_split(X, y, test_size=0.20)\n",
    "print(x_train.shape)\n",
    "print(x_test.shape)\n",
    "print(y_train.shape)\n",
    "print(y_test.shape)"
   ]
  },
  {
   "cell_type": "code",
   "execution_count": 10,
   "metadata": {
    "ExecuteTime": {
     "end_time": "2020-08-07T06:40:02.857016Z",
     "start_time": "2020-08-07T06:40:02.844480Z"
    }
   },
   "outputs": [],
   "source": [
    "x_train = torch.from_numpy(x_train)\n",
    "x_test  = torch.from_numpy(x_test)\n",
    "y_train = torch.from_numpy(y_train)\n",
    "y_test = torch.from_numpy(y_test)"
   ]
  },
  {
   "cell_type": "code",
   "execution_count": 11,
   "metadata": {
    "ExecuteTime": {
     "end_time": "2020-08-07T06:40:02.870555Z",
     "start_time": "2020-08-07T06:40:02.859021Z"
    }
   },
   "outputs": [],
   "source": [
    "from torch.utils.data import DataLoader , TensorDataset\n",
    "train_ds = TensorDataset(x_train, y_train)"
   ]
  },
  {
   "cell_type": "code",
   "execution_count": 12,
   "metadata": {
    "ExecuteTime": {
     "end_time": "2020-08-07T06:40:02.888603Z",
     "start_time": "2020-08-07T06:40:02.872560Z"
    }
   },
   "outputs": [],
   "source": [
    "test_ds = TensorDataset(x_test, y_test)"
   ]
  },
  {
   "cell_type": "code",
   "execution_count": 13,
   "metadata": {
    "ExecuteTime": {
     "end_time": "2020-08-07T06:40:02.901639Z",
     "start_time": "2020-08-07T06:40:02.889607Z"
    }
   },
   "outputs": [],
   "source": [
    "# Define data loader for train set\n",
    "batch_size = 30\n",
    "train_dl = DataLoader(train_ds, batch_size, shuffle=True)"
   ]
  },
  {
   "cell_type": "code",
   "execution_count": 14,
   "metadata": {
    "ExecuteTime": {
     "end_time": "2020-08-07T06:40:02.913670Z",
     "start_time": "2020-08-07T06:40:02.903644Z"
    }
   },
   "outputs": [],
   "source": [
    "#Define data loader for test set\n",
    "batch_size = 30\n",
    "test_dl = DataLoader(test_ds, batch_size, shuffle=False)"
   ]
  },
  {
   "cell_type": "code",
   "execution_count": 15,
   "metadata": {
    "ExecuteTime": {
     "end_time": "2020-08-07T06:40:02.929712Z",
     "start_time": "2020-08-07T06:40:02.914672Z"
    }
   },
   "outputs": [],
   "source": [
    "Net1 = nn.Sequential(\n",
    "        nn.Linear(30, 15),\n",
    "        nn.ReLU(),\n",
    "        nn.Linear(15, 15),\n",
    "        nn.Sigmoid(),\n",
    "        nn.Linear(15,7),\n",
    "        nn.ReLU(),\n",
    "        nn.Linear(7,2),\n",
    "        )"
   ]
  },
  {
   "cell_type": "code",
   "execution_count": 16,
   "metadata": {
    "ExecuteTime": {
     "end_time": "2020-08-07T06:40:02.945755Z",
     "start_time": "2020-08-07T06:40:02.930715Z"
    }
   },
   "outputs": [],
   "source": [
    "optimizer = torch.optim.Adam(Net1.parameters(), lr=0.001)\n",
    "criterion = nn.CrossEntropyLoss()"
   ]
  },
  {
   "cell_type": "code",
   "execution_count": 17,
   "metadata": {
    "ExecuteTime": {
     "end_time": "2020-08-07T06:40:04.452248Z",
     "start_time": "2020-08-07T06:40:02.947761Z"
    }
   },
   "outputs": [
    {
     "name": "stdout",
     "output_type": "stream",
     "text": [
      "Training Accuracy at epoch 1 is:  0.5861111111111111\n",
      "Validation Accuracy at epoch 1 is:  0.6\n",
      "Training Accuracy at epoch 2 is:  0.5861111111111111\n",
      "Validation Accuracy at epoch 2 is:  0.6\n",
      "Training Accuracy at epoch 3 is:  0.5861111111111111\n",
      "Validation Accuracy at epoch 3 is:  0.6\n",
      "Training Accuracy at epoch 4 is:  0.5861111111111111\n",
      "Validation Accuracy at epoch 4 is:  0.6\n",
      "Training Accuracy at epoch 5 is:  0.5861111111111111\n",
      "Validation Accuracy at epoch 5 is:  0.6\n",
      "Training Accuracy at epoch 6 is:  0.5861111111111111\n",
      "Validation Accuracy at epoch 6 is:  0.6\n",
      "Training Accuracy at epoch 7 is:  0.5861111111111111\n",
      "Validation Accuracy at epoch 7 is:  0.6\n",
      "Training Accuracy at epoch 8 is:  0.5861111111111111\n",
      "Validation Accuracy at epoch 8 is:  0.6\n",
      "Training Accuracy at epoch 9 is:  0.5861111111111111\n",
      "Validation Accuracy at epoch 9 is:  0.6\n",
      "Training Accuracy at epoch 10 is:  0.5861111111111111\n",
      "Validation Accuracy at epoch 10 is:  0.6\n",
      "Training Accuracy at epoch 11 is:  0.5861111111111111\n",
      "Validation Accuracy at epoch 11 is:  0.6\n",
      "Training Accuracy at epoch 12 is:  0.5861111111111111\n",
      "Validation Accuracy at epoch 12 is:  0.6\n",
      "Training Accuracy at epoch 13 is:  0.6972222222222222\n",
      "Validation Accuracy at epoch 13 is:  0.8333333333333334\n",
      "Training Accuracy at epoch 14 is:  0.8583333333333333\n",
      "Validation Accuracy at epoch 14 is:  0.8555555555555555\n",
      "Training Accuracy at epoch 15 is:  0.8833333333333333\n",
      "Validation Accuracy at epoch 15 is:  0.9\n",
      "Training Accuracy at epoch 16 is:  0.9027777777777778\n",
      "Validation Accuracy at epoch 16 is:  0.8777777777777778\n",
      "Training Accuracy at epoch 17 is:  0.9027777777777778\n",
      "Validation Accuracy at epoch 17 is:  0.8777777777777778\n",
      "Training Accuracy at epoch 18 is:  0.9055555555555556\n",
      "Validation Accuracy at epoch 18 is:  0.8888888888888888\n",
      "Training Accuracy at epoch 19 is:  0.9083333333333333\n",
      "Validation Accuracy at epoch 19 is:  0.8777777777777778\n",
      "Training Accuracy at epoch 20 is:  0.9083333333333333\n",
      "Validation Accuracy at epoch 20 is:  0.9\n",
      "Training Accuracy at epoch 21 is:  0.9194444444444444\n",
      "Validation Accuracy at epoch 21 is:  0.9\n",
      "Training Accuracy at epoch 22 is:  0.9222222222222223\n",
      "Validation Accuracy at epoch 22 is:  0.9111111111111111\n",
      "Training Accuracy at epoch 23 is:  0.9222222222222223\n",
      "Validation Accuracy at epoch 23 is:  0.9\n",
      "Training Accuracy at epoch 24 is:  0.9027777777777778\n",
      "Validation Accuracy at epoch 24 is:  0.9111111111111111\n",
      "Training Accuracy at epoch 25 is:  0.9222222222222223\n",
      "Validation Accuracy at epoch 25 is:  0.8666666666666667\n",
      "Training Accuracy at epoch 26 is:  0.9083333333333333\n",
      "Validation Accuracy at epoch 26 is:  0.8555555555555555\n",
      "Training Accuracy at epoch 27 is:  0.9222222222222223\n",
      "Validation Accuracy at epoch 27 is:  0.8666666666666667\n",
      "Training Accuracy at epoch 28 is:  0.8916666666666667\n",
      "Validation Accuracy at epoch 28 is:  0.9\n",
      "Training Accuracy at epoch 29 is:  0.9194444444444444\n",
      "Validation Accuracy at epoch 29 is:  0.9111111111111111\n",
      "Training Accuracy at epoch 30 is:  0.9138888888888889\n",
      "Validation Accuracy at epoch 30 is:  0.9111111111111111\n"
     ]
    }
   ],
   "source": [
    "val_acc=[]\n",
    "loss_list=[]\n",
    "train_acc =[]\n",
    "for epoch in range(30):\n",
    "    loss_sublist = []\n",
    "    corr = 0\n",
    "    for x, y in train_dl:\n",
    "        Net1.train()\n",
    "        optimizer.zero_grad()\n",
    "        preds = Net1(x.float())\n",
    "        loss = criterion(preds, y.long())\n",
    "        loss_sublist.append(loss.data.item())\n",
    "        loss.backward()\n",
    "        optimizer.step()\n",
    "       \n",
    "        _, yhat = torch.max(preds.data, 1)\n",
    "        corr += (yhat == y).sum().item()\n",
    "        \n",
    "    \n",
    "    loss_list.append(np.mean(loss_sublist))\n",
    "    acc = corr/len(train_ds)\n",
    "    print(\"Training Accuracy at epoch\",epoch+1,\"is: \",acc)\n",
    "    train_acc.append(acc)\n",
    "    \n",
    "     \n",
    "    correct=0\n",
    "    with torch.no_grad():\n",
    "        for x_test, y_test in test_dl:\n",
    "            Net1.eval()\n",
    "            z = Net1(x_test.float())\n",
    "            _, yhat1 = torch.max(z.data, 1)\n",
    "            correct += (yhat1 == y_test).sum().item()\n",
    "    accuracy = correct / len(test_ds)\n",
    "    print(\"Validation Accuracy at epoch\",epoch+1,\"is: \",accuracy)\n",
    "    val_acc.append(accuracy) "
   ]
  },
  {
   "cell_type": "code",
   "execution_count": 18,
   "metadata": {
    "ExecuteTime": {
     "end_time": "2020-08-07T06:40:04.617701Z",
     "start_time": "2020-08-07T06:40:04.453250Z"
    }
   },
   "outputs": [
    {
     "data": {
      "text/plain": [
       "<matplotlib.legend.Legend at 0x24a94ebec50>"
      ]
     },
     "execution_count": 18,
     "metadata": {},
     "output_type": "execute_result"
    },
    {
     "data": {
      "image/png": "[encoded data removed]",
      "text/plain": [
       "<Figure size 1008x504 with 1 Axes>"
      ]
     },
     "metadata": {
      "needs_background": "light"
     },
     "output_type": "display_data"
    }
   ],
   "source": [
    "plt.figure(figsize=(14,7))\n",
    "plt.plot(train_acc, label='Training Accuracy')\n",
    "plt.plot(val_acc, label='Validation Accuracy')\n",
    "plt.title('Accuracy Comparision')\n",
    "plt.xlabel('Epochs')\n",
    "plt.ylabel('Accuracy')\n",
    "plt.legend()"
   ]
  },
  {
   "cell_type": "code",
   "execution_count": 19,
   "metadata": {
    "ExecuteTime": {
     "end_time": "2020-08-07T06:40:04.757131Z",
     "start_time": "2020-08-07T06:40:04.618702Z"
    }
   },
   "outputs": [
    {
     "data": {
      "text/plain": [
       "<matplotlib.legend.Legend at 0x24a951440b8>"
      ]
     },
     "execution_count": 19,
     "metadata": {},
     "output_type": "execute_result"
    },
    {
     "data": {
      "image/png": "[encoded data removed]",
      "text/plain": [
       "<Figure size 1008x504 with 1 Axes>"
      ]
     },
     "metadata": {
      "needs_background": "light"
     },
     "output_type": "display_data"
    }
   ],
   "source": [
    "plt.figure(figsize=(14,7))\n",
    "plt.plot(loss_list,label='Training Loss')\n",
    "plt.title('Training Loss Curve')\n",
    "plt.xlabel('Epochs')\n",
    "plt.ylabel('Loss')\n",
    "plt.legend()"
   ]
  },
  {
   "cell_type": "markdown",
   "metadata": {},
   "source": [
    "Lets test model accuracy on unseen data that model neither seen in training phase nor in validation phase."
   ]
  },
  {
   "cell_type": "code",
   "execution_count": 20,
   "metadata": {
    "ExecuteTime": {
     "end_time": "2020-08-07T06:40:04.765688Z",
     "start_time": "2020-08-07T06:40:04.758642Z"
    }
   },
   "outputs": [
    {
     "data": {
      "text/plain": [
       "array([[1.187e+01, 2.154e+01, 7.683e+01, 4.320e+02, 6.613e-02, 1.064e-01,\n",
       "        8.777e-02, 2.386e-02, 1.349e-01, 6.612e-02, 2.560e-01, 1.554e+00,\n",
       "        1.955e+00, 2.024e+01, 6.854e-03, 6.063e-02, 6.663e-02, 1.553e-02,\n",
       "        2.354e-02, 8.925e-03, 1.279e+01, 2.818e+01, 8.351e+01, 5.072e+02,\n",
       "        9.457e-02, 3.399e-01, 3.218e-01, 8.750e-02, 2.305e-01, 9.952e-02],\n",
       "       [1.959e+01, 2.500e+01, 1.277e+02, 1.191e+03, 1.032e-01, 9.871e-02,\n",
       "        1.655e-01, 9.063e-02, 1.663e-01, 5.391e-02, 4.674e-01, 1.375e+00,\n",
       "        2.916e+00, 5.618e+01, 1.190e-02, 1.929e-02, 4.907e-02, 1.499e-02,\n",
       "        1.641e-02, 1.807e-03, 2.144e+01, 3.096e+01, 1.398e+02, 1.421e+03,\n",
       "        1.528e-01, 1.845e-01, 3.977e-01, 1.466e-01, 2.293e-01, 6.091e-02],\n",
       "       [1.200e+01, 2.823e+01, 7.677e+01, 4.425e+02, 8.437e-02, 6.450e-02,\n",
       "        4.055e-02, 1.945e-02, 1.615e-01, 6.104e-02, 1.912e-01, 1.705e+00,\n",
       "        1.516e+00, 1.386e+01, 7.334e-03, 2.589e-02, 2.941e-02, 9.166e-03,\n",
       "        1.745e-02, 4.302e-03, 1.309e+01, 3.788e+01, 8.507e+01, 5.237e+02,\n",
       "        1.208e-01, 1.856e-01, 1.811e-01, 7.116e-02, 2.447e-01, 8.194e-02]])"
      ]
     },
     "execution_count": 20,
     "metadata": {},
     "output_type": "execute_result"
    }
   ],
   "source": [
    "xr_test = unseen.drop('diagnosis',axis=1)\n",
    "xr_test = xr_test.values\n",
    "xr_test[:3]"
   ]
  },
  {
   "cell_type": "code",
   "execution_count": 21,
   "metadata": {
    "ExecuteTime": {
     "end_time": "2020-08-07T06:40:04.788444Z",
     "start_time": "2020-08-07T06:40:04.767662Z"
    }
   },
   "outputs": [
    {
     "data": {
      "text/plain": [
       "450    B\n",
       "451    M\n",
       "452    B\n",
       "453    B\n",
       "454    B\n",
       "Name: diagnosis, dtype: object"
      ]
     },
     "execution_count": 21,
     "metadata": {},
     "output_type": "execute_result"
    }
   ],
   "source": [
    "yr_test = unseen['diagnosis']\n",
    "yr_test.head()"
   ]
  },
  {
   "cell_type": "code",
   "execution_count": 22,
   "metadata": {
    "ExecuteTime": {
     "end_time": "2020-08-07T06:40:04.804467Z",
     "start_time": "2020-08-07T06:40:04.790429Z"
    }
   },
   "outputs": [
    {
     "name": "stdout",
     "output_type": "stream",
     "text": [
      "[0 1 0 0 0]\n",
      "(119,)\n"
     ]
    }
   ],
   "source": [
    "Y=LabelEncoder()\n",
    "yr_test=Y.fit_transform(yr_test)\n",
    "print(yr_test[:5])\n",
    "print(yr_test.shape)"
   ]
  },
  {
   "cell_type": "code",
   "execution_count": 23,
   "metadata": {
    "ExecuteTime": {
     "end_time": "2020-08-07T06:40:04.820510Z",
     "start_time": "2020-08-07T06:40:04.810482Z"
    }
   },
   "outputs": [],
   "source": [
    "xr_test  = torch.from_numpy(xr_test)\n",
    "yr_test = torch.from_numpy(yr_test)"
   ]
  },
  {
   "cell_type": "code",
   "execution_count": 24,
   "metadata": {
    "ExecuteTime": {
     "end_time": "2020-08-07T06:40:04.838589Z",
     "start_time": "2020-08-07T06:40:04.823519Z"
    }
   },
   "outputs": [],
   "source": [
    "y_p = Net1(xr_test.float())\n",
    "_, yhat1 = torch.max(y_p.data, 1)"
   ]
  },
  {
   "cell_type": "code",
   "execution_count": 25,
   "metadata": {
    "ExecuteTime": {
     "end_time": "2020-08-07T06:40:04.856606Z",
     "start_time": "2020-08-07T06:40:04.839559Z"
    }
   },
   "outputs": [
    {
     "data": {
      "text/plain": [
       "tensor([0, 1, 0, 0, 0, 0, 0, 0, 0, 0, 1, 1, 0, 0, 0, 0, 0, 0, 1, 0, 0, 0, 1, 0,\n",
       "        0, 0, 1, 0, 0, 0, 0, 1, 0, 0, 0, 0, 0, 1, 0, 1, 0, 1, 1, 0, 0, 0, 0, 0,\n",
       "        1, 1, 1, 1, 0, 1, 0, 0, 0, 0, 0, 0, 0, 0, 1, 1, 1, 0, 1, 1, 0, 0, 0, 1,\n",
       "        0, 0, 0, 0, 0, 0, 0, 0, 0, 0, 0, 1, 0, 1, 0, 0, 0, 0, 0, 0, 0, 0, 0, 0,\n",
       "        0, 0, 0, 0, 0, 0, 0, 0, 0, 0, 0, 0, 0, 0, 0, 0, 0, 1, 1, 1, 1, 1, 0])"
      ]
     },
     "execution_count": 25,
     "metadata": {},
     "output_type": "execute_result"
    }
   ],
   "source": [
    "yhat1"
   ]
  },
  {
   "cell_type": "code",
   "execution_count": 26,
   "metadata": {
    "ExecuteTime": {
     "end_time": "2020-08-07T06:40:04.871677Z",
     "start_time": "2020-08-07T06:40:04.858615Z"
    }
   },
   "outputs": [],
   "source": [
    "y_pred1 = yhat1.detach().numpy()"
   ]
  },
  {
   "cell_type": "code",
   "execution_count": 27,
   "metadata": {
    "ExecuteTime": {
     "end_time": "2020-08-07T06:40:04.888259Z",
     "start_time": "2020-08-07T06:40:04.873203Z"
    }
   },
   "outputs": [
    {
     "name": "stdout",
     "output_type": "stream",
     "text": [
      "Accuracy of on test data Model:   91.59663865546219\n"
     ]
    }
   ],
   "source": [
    "from sklearn.metrics import accuracy_score \n",
    "print(\"Accuracy of on test data Model:  \", accuracy_score(yr_test, y_pred1) *  100)"
   ]
  },
  {
   "cell_type": "code",
   "execution_count": 28,
   "metadata": {
    "ExecuteTime": {
     "end_time": "2020-08-07T06:40:04.952415Z",
     "start_time": "2020-08-07T06:40:04.890249Z"
    }
   },
   "outputs": [
    {
     "data": {
      "text/plain": [
       "array([[86,  6],\n",
       "       [ 4, 23]], dtype=int64)"
      ]
     },
     "execution_count": 28,
     "metadata": {},
     "output_type": "execute_result"
    }
   ],
   "source": [
    "from sklearn.metrics import confusion_matrix\n",
    "cm = confusion_matrix(yr_test, y_pred1)\n",
    "cm"
   ]
  },
  {
   "cell_type": "code",
   "execution_count": 29,
   "metadata": {
    "ExecuteTime": {
     "end_time": "2020-08-07T06:40:04.971524Z",
     "start_time": "2020-08-07T06:40:04.954420Z"
    }
   },
   "outputs": [
    {
     "name": "stdout",
     "output_type": "stream",
     "text": [
      "Classification report of model: \n",
      "              precision    recall  f1-score   support\n",
      "\n",
      "           0       0.96      0.93      0.95        92\n",
      "           1       0.79      0.85      0.82        27\n",
      "\n",
      "    accuracy                           0.92       119\n",
      "   macro avg       0.87      0.89      0.88       119\n",
      "weighted avg       0.92      0.92      0.92       119\n",
      "\n"
     ]
    }
   ],
   "source": [
    "from sklearn.metrics import classification_report\n",
    "print(\"Classification report of model: \")\n",
    "print(classification_report(yr_test, y_pred1))"
   ]
  },
  {
   "cell_type": "code",
   "execution_count": 30,
   "metadata": {
    "ExecuteTime": {
     "end_time": "2020-08-07T06:40:04.981541Z",
     "start_time": "2020-08-07T06:40:04.973520Z"
    }
   },
   "outputs": [
    {
     "data": {
      "text/plain": [
       "array([0, 1, 0, 0, 0, 0, 0, 0, 0, 0, 1, 1, 0, 0, 0, 0, 0, 0, 1, 0, 0, 0,\n",
       "       1, 0, 0, 0, 1, 0, 0, 0, 0, 1, 0, 0, 0, 0, 0, 1, 0, 1, 0, 1, 1, 0,\n",
       "       0, 0, 0, 0, 1, 1, 1, 1, 0, 1, 0, 0, 0, 0, 0, 0, 0, 0, 1, 1, 1, 0,\n",
       "       1, 1, 0, 0, 0, 1, 0, 0, 0, 0, 0, 0, 0, 0, 0, 0, 0, 1, 0, 1, 0, 0,\n",
       "       0, 0, 0, 0, 0, 0, 0, 0, 0, 0, 0, 0, 0, 0, 0, 0, 0, 0, 0, 0, 0, 0,\n",
       "       0, 0, 0, 1, 1, 1, 1, 1, 0], dtype=int64)"
      ]
     },
     "execution_count": 30,
     "metadata": {},
     "output_type": "execute_result"
    }
   ],
   "source": [
    "y_pred1"
   ]
  },
  {
   "cell_type": "code",
   "execution_count": 31,
   "metadata": {
    "ExecuteTime": {
     "end_time": "2020-08-07T06:40:04.997585Z",
     "start_time": "2020-08-07T06:40:04.983547Z"
    }
   },
   "outputs": [
    {
     "data": {
      "text/plain": [
       "tensor([0, 1, 0, 0, 0, 0, 0, 0, 0, 0, 1, 1, 0, 0, 0, 0, 0, 0, 1, 0, 0, 0, 0, 0,\n",
       "        0, 0, 0, 0, 0, 1, 0, 0, 0, 0, 0, 0, 0, 1, 0, 1, 0, 0, 1, 0, 0, 0, 0, 0,\n",
       "        1, 1, 0, 1, 0, 1, 0, 0, 0, 0, 0, 1, 0, 0, 1, 0, 1, 0, 1, 1, 0, 0, 0, 1,\n",
       "        0, 0, 0, 0, 0, 0, 0, 0, 0, 0, 0, 1, 0, 1, 1, 0, 0, 0, 0, 0, 0, 0, 0, 0,\n",
       "        0, 0, 0, 0, 0, 0, 0, 0, 0, 0, 0, 0, 0, 0, 0, 0, 1, 1, 1, 1, 1, 1, 0],\n",
       "       dtype=torch.int32)"
      ]
     },
     "execution_count": 31,
     "metadata": {},
     "output_type": "execute_result"
    }
   ],
   "source": [
    "yr_test"
   ]
  },
  {
   "cell_type": "code",
   "execution_count": null,
   "metadata": {},
   "outputs": [],
   "source": []
  },
  {
   "cell_type": "code",
   "execution_count": null,
   "metadata": {},
   "outputs": [],
   "source": []
  },
  {
   "cell_type": "code",
   "execution_count": null,
   "metadata": {},
   "outputs": [],
   "source": []
  }
 ],
 "metadata": {
  "kernelspec": {
   "display_name": "Python 3",
   "language": "python",
   "name": "python3"
  },
  "language_info": {
   "codemirror_mode": {
    "name": "ipython",
    "version": 3
   },
   "file_extension": ".py",
   "mimetype": "text/x-python",
   "name": "python",
   "nbconvert_exporter": "python",
   "pygments_lexer": "ipython3",
   "version": "3.7.3"
  },
  "toc": {
   "base_numbering": 1,
   "nav_menu": {},
   "number_sections": true,
   "sideBar": true,
   "skip_h1_title": false,
   "title_cell": "Table of Contents",
   "title_sidebar": "Contents",
   "toc_cell": false,
   "toc_position": {},
   "toc_section_display": true,
   "toc_window_display": false
  },
  "varInspector": {
   "cols": {
    "lenName": 16,
    "lenType": 16,
    "lenVar": 40
   },
   "kernels_config": {
    "python": {
     "delete_cmd_postfix": "",
     "delete_cmd_prefix": "del ",
     "library": "var_list.py",
     "varRefreshCmd": "print(var_dic_list())"
    },
    "r": {
     "delete_cmd_postfix": ") ",
     "delete_cmd_prefix": "rm(",
     "library": "var_list.r",
     "varRefreshCmd": "cat(var_dic_list()) "
    }
   },
   "types_to_exclude": [
    "module",
    "function",
    "builtin_function_or_method",
    "instance",
    "_Feature"
   ],
   "window_display": false
  }
 },
 "nbformat": 4,
 "nbformat_minor": 2
}
